{
  "nbformat": 4,
  "nbformat_minor": 0,
  "metadata": {
    "colab": {
      "name": "Weather.ipynb",
      "provenance": []
    },
    "kernelspec": {
      "name": "python3",
      "display_name": "Python 3"
    },
    "language_info": {
      "name": "python"
    }
  },
  "cells": [
    {
      "cell_type": "code",
      "metadata": {
        "colab": {
          "base_uri": "https://localhost:8080/"
        },
        "id": "Kp-EIEZNrEgH",
        "outputId": "123e547d-bd33-4a01-82e2-2117e4fda92c"
      },
      "source": [
        "import requests\n",
        "\n",
        "from datetime import datetime\n",
        "\n",
        "file = open(\"C:\\\\NewFolder\\\\log.txt\",\"a\")\n",
        "\n",
        "api_key = '87d845b0b6cf29baa1a73cc34b067a95'\n",
        "location = input(\"Enter the city name: \" ,)\n",
        "\n",
        "complete_api_link = \"https://api.openweathermap.org/data/2.5/weather?q=\" +location +\"&appid=\"+api_key\n",
        "api_link = requests.get(complete_api_link)\n",
        "api_data = api_link.json()\n",
        "\n",
        "temp_city = ((api_data['main']['temp']) - 273.15)\n",
        "weather_desc = api_data['weather'][0]['description']\n",
        "hmdt = api_data['main']['humidity']\n",
        "wind_spd = api_data['wind']['speed']\n",
        "date_time = datetime.now().strftime(\"%d %b %Y | %I:%M:%S %p\")\n",
        "\n",
        "f = open('weather_output.txt', 'a')\n",
        "f.write(\"-------------------------------------------------------------\\n\")\n",
        "f.write(\"Weather Stats for - {}  || {} \\n\".format(location.upper(), date_time))\n",
        "f.write(\"-------------------------------------------------------------\\n\")\n",
        "f.write(\"Current temperature is: {:.2f} deg C \\n\".format(temp_city))\n",
        "f.write(\"Current weather desc  :{} \\n\".format(weather_desc))\n",
        "f.write(\"Current Humidity      :{} % \\n\".format(hmdt))\n",
        "f.write(\"Current wind speed    :{} kmph \\n\".format(wind_spd))\n",
        "f.close()\n",
        "\n",
        "print(\"------------------------------------------------------------------\", )\n",
        "print(\"Weather Stats For - {} || {}\".format(location.upper(), date_time),)\n",
        "print(\"------------------------------------------------------------------\" ,)\n",
        "\n",
        "print(\"Current Temprature is: {:.2f} deg C\".format(temp_city) ,)\n",
        "print(\"Current Weather Desc  :\",weather_desc ,)\n",
        "print(\"Current Humidity      :\",hmdt, '%' ,)\n",
        "print(\"Current Wind Speed    :\",wind_spd,'kmph' ,)\n",
        "\n",
        "\n",
        "\n"
      ],
      "execution_count": null,
      "outputs": [
        {
          "output_type": "stream",
          "text": [
            "Enter the city name: jhunjhunu\n",
            "------------------------------------------------------------------\n",
            "Weather Stats For - JHUNJHUNU || 23 Jun 2021 | 01:24:13 PM\n",
            "------------------------------------------------------------------\n",
            "Current Temprature is: 40.55 deg C\n",
            "Current Weather Desc  : clear sky\n",
            "Current Humidity      : 14 %\n",
            "Current Wind Speed    : 4.84 kmph\n"
          ],
          "name": "stdout"
        }
      ]
    },
    {
      "cell_type": "markdown",
      "metadata": {
        "id": "_EYTiaU0DTbo"
      },
      "source": [
        ""
      ]
    }
  ]
}